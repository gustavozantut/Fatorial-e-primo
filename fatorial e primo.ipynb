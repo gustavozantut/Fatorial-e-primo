{
 "cells": [
  {
   "cell_type": "code",
   "execution_count": 6,
   "metadata": {},
   "outputs": [
    {
     "name": "stdout",
     "output_type": "stream",
     "text": [
      "Digite um numero: 135\n",
      "145988562362439271568053676283044502712287224549611848184463845937385581807837195699142912431119112445869813856207724003829172842554813970173132800000000000000000000000000\n"
     ]
    }
   ],
   "source": [
    "#calculando número fatorial\n",
    "num=int(input(\"Digite um numero: \")) \n",
    "contador=1\n",
    "while contador < 106:\n",
    "    num=num*(106-contador)\n",
    "    contador+=1\n",
    "    \n",
    "print(num)"
   ]
  },
  {
   "cell_type": "code",
   "execution_count": 7,
   "metadata": {},
   "outputs": [
    {
     "name": "stdout",
     "output_type": "stream",
     "text": [
      "Digite um numero: 22\n",
      "22 Não é primo\n"
     ]
    }
   ],
   "source": [
    "#calculando se um número é primo\n",
    "num= int(input(\"Digite um numero: \")) \n",
    "contador=1 \n",
    "divisores=1 \n",
    "if num < 2:\n",
    "    print(str(num) + \" Não é primo\") \n",
    "else:\n",
    "    while contador < num:\n",
    "        if (num%contador) == 0:\n",
    "            divisores += 1 \n",
    "            if divisores > 2:\n",
    "                break\n",
    "        else: \n",
    "            divisores=divisores\n",
    "        contador +=1 \n",
    "    if divisores <= 2:\n",
    "        print(str(num) + \" É primo\")\n",
    "    else:\n",
    "        print(str(num) + \" Não é primo\")     "
   ]
  },
  {
   "cell_type": "code",
   "execution_count": 11,
   "metadata": {},
   "outputs": [
    {
     "name": "stdout",
     "output_type": "stream",
     "text": [
      "Digite um numero: 11737331\n",
      "11737331 Não é primo e o menor divisor entre 2 e ele é: 433\n"
     ]
    }
   ],
   "source": [
    "#calculando o menor divisor de um número, caso não seja primo\n",
    "num= int(input(\"Digite um numero: \")) \n",
    "contador1=1 \n",
    "divisoes=1 \n",
    "if num < 2:\n",
    "    print(str(num) + \" Não é primo\") \n",
    "else:\n",
    "    while contador1 < num:\n",
    "        if (num%contador1) == 0:\n",
    "            divisoes += 1 \n",
    "            if divisoes > 2:\n",
    "                divisor=contador1\n",
    "                break\n",
    "        else: \n",
    "            divisoes=divisoes\n",
    "        contador1 +=1 \n",
    "    if divisoes <= 2:\n",
    "        print(str(num) + \" É primo\")\n",
    "    else:\n",
    "        print(str(num) + \" Não é primo e o menor divisor entre 2 e ele é: \" + str(contador1))    "
   ]
  },
  {
   "cell_type": "code",
   "execution_count": 12,
   "metadata": {},
   "outputs": [
    {
     "name": "stdout",
     "output_type": "stream",
     "text": [
      "Digite um numero fatorial(!): 136\n",
      "36590428819525486576897272205198933454286172951815726156123815101405189582089242773975735166401987907830880230417721361838572072126683305250473185240276110436058808776620558462614334914409164842205184000000000000000000000000000000000 Não é primo e o menor divisor entre 2 e ele é: 2\n"
     ]
    }
   ],
   "source": [
    "#unindo as etapas\n",
    "num= int(input(\"Digite um numero fatorial(!): \")) \n",
    "num1=num \n",
    "contador=1 \n",
    "while contador < num1: \n",
    "    num=num*(num1-contador) \n",
    "    contador+=1 \n",
    "    \n",
    "contador1=1 \n",
    "divisoes=1 \n",
    "if num < 2:\n",
    "    print(str(num) + \" Não é primo\") \n",
    "else:\n",
    "    while contador1 < num:\n",
    "        if (num%contador1) == 0:\n",
    "            divisoes += 1 \n",
    "            if divisoes > 2:\n",
    "                divisor=contador1\n",
    "                break\n",
    "        else: \n",
    "            divisoes=divisoes\n",
    "        contador1 +=1 \n",
    "    if divisoes <= 2:\n",
    "        print(str(num) + \" É primo\")\n",
    "    else:\n",
    "        print(str(num) + \" Não é primo e o menor divisor entre 2 e ele é: \"+str(contador1))     "
   ]
  }
 ],
 "metadata": {
  "kernelspec": {
   "display_name": "Python 3",
   "language": "python",
   "name": "python3"
  },
  "language_info": {
   "codemirror_mode": {
    "name": "ipython",
    "version": 3
   },
   "file_extension": ".py",
   "mimetype": "text/x-python",
   "name": "python",
   "nbconvert_exporter": "python",
   "pygments_lexer": "ipython3",
   "version": "3.7.4"
  }
 },
 "nbformat": 4,
 "nbformat_minor": 2
}
